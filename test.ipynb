{
 "cells": [
  {
   "cell_type": "code",
   "execution_count": 1,
   "metadata": {},
   "outputs": [
    {
     "name": "stderr",
     "output_type": "stream",
     "text": [
      "/Users/joseongho/Library/Python/3.9/lib/python/site-packages/torchtext/data/__init__.py:4: UserWarning: \n",
      "/!\\ IMPORTANT WARNING ABOUT TORCHTEXT STATUS /!\\ \n",
      "Torchtext is deprecated and the last released version will be 0.18 (this one). You can silence this warning by calling the following at the beginnign of your scripts: `import torchtext; torchtext.disable_torchtext_deprecation_warning()`\n",
      "  warnings.warn(torchtext._TORCHTEXT_DEPRECATION_MSG)\n",
      "/Users/joseongho/Library/Python/3.9/lib/python/site-packages/torchtext/vocab/__init__.py:4: UserWarning: \n",
      "/!\\ IMPORTANT WARNING ABOUT TORCHTEXT STATUS /!\\ \n",
      "Torchtext is deprecated and the last released version will be 0.18 (this one). You can silence this warning by calling the following at the beginnign of your scripts: `import torchtext; torchtext.disable_torchtext_deprecation_warning()`\n",
      "  warnings.warn(torchtext._TORCHTEXT_DEPRECATION_MSG)\n",
      "/Users/joseongho/Library/Python/3.9/lib/python/site-packages/torchtext/utils.py:4: UserWarning: \n",
      "/!\\ IMPORTANT WARNING ABOUT TORCHTEXT STATUS /!\\ \n",
      "Torchtext is deprecated and the last released version will be 0.18 (this one). You can silence this warning by calling the following at the beginnign of your scripts: `import torchtext; torchtext.disable_torchtext_deprecation_warning()`\n",
      "  warnings.warn(torchtext._TORCHTEXT_DEPRECATION_MSG)\n",
      "/Users/joseongho/Library/Python/3.9/lib/python/site-packages/urllib3/__init__.py:34: NotOpenSSLWarning: urllib3 v2 only supports OpenSSL 1.1.1+, currently the 'ssl' module is compiled with 'LibreSSL 2.8.3'. See: https://github.com/urllib3/urllib3/issues/3020\n",
      "  warnings.warn(\n"
     ]
    }
   ],
   "source": [
    "import pandas as pd\n",
    "import torch\n",
    "import matplotlib.pyplot as plt\n",
    "from torchtext.data.utils import get_tokenizer\n",
    "from torchtext.vocab import build_vocab_from_iterator"
   ]
  },
  {
   "cell_type": "code",
   "execution_count": 2,
   "metadata": {},
   "outputs": [
    {
     "name": "stdout",
     "output_type": "stream",
     "text": [
      "<class 'pandas.core.frame.DataFrame'>\n",
      "RangeIndex: 10876 entries, 0 to 10875\n",
      "Data columns (total 5 columns):\n",
      " #   Column    Non-Null Count  Dtype  \n",
      "---  ------    --------------  -----  \n",
      " 0   id        10876 non-null  int64  \n",
      " 1   keyword   10789 non-null  object \n",
      " 2   location  7238 non-null   object \n",
      " 3   text      10876 non-null  object \n",
      " 4   target    7613 non-null   float64\n",
      "dtypes: float64(1), int64(1), object(3)\n",
      "memory usage: 425.0+ KB\n",
      "None\n"
     ]
    },
    {
     "data": {
      "text/html": [
       "<div>\n",
       "<style scoped>\n",
       "    .dataframe tbody tr th:only-of-type {\n",
       "        vertical-align: middle;\n",
       "    }\n",
       "\n",
       "    .dataframe tbody tr th {\n",
       "        vertical-align: top;\n",
       "    }\n",
       "\n",
       "    .dataframe thead th {\n",
       "        text-align: right;\n",
       "    }\n",
       "</style>\n",
       "<table border=\"1\" class=\"dataframe\">\n",
       "  <thead>\n",
       "    <tr style=\"text-align: right;\">\n",
       "      <th></th>\n",
       "      <th>id</th>\n",
       "      <th>keyword</th>\n",
       "      <th>location</th>\n",
       "      <th>text</th>\n",
       "      <th>target</th>\n",
       "    </tr>\n",
       "  </thead>\n",
       "  <tbody>\n",
       "    <tr>\n",
       "      <th>3616</th>\n",
       "      <td>5162</td>\n",
       "      <td>fatalities</td>\n",
       "      <td>NaN</td>\n",
       "      <td>EXCLUSIVE: In 179 fatalities involving on-duty...</td>\n",
       "      <td>1.0</td>\n",
       "    </tr>\n",
       "  </tbody>\n",
       "</table>\n",
       "</div>"
      ],
      "text/plain": [
       "        id     keyword location  \\\n",
       "3616  5162  fatalities      NaN   \n",
       "\n",
       "                                                   text  target  \n",
       "3616  EXCLUSIVE: In 179 fatalities involving on-duty...     1.0  "
      ]
     },
     "execution_count": 2,
     "metadata": {},
     "output_type": "execute_result"
    }
   ],
   "source": [
    "trainDF = pd.read_csv('train.csv')\n",
    "testDF = pd.read_csv('test.csv')\n",
    "concatDF = pd.concat([trainDF,testDF])\n",
    "concatDF = concatDF.reset_index(drop=True)\n",
    "\n",
    "\n",
    "print(concatDF.info())\n",
    "concatDF.sample()"
   ]
  },
  {
   "cell_type": "code",
   "execution_count": 3,
   "metadata": {},
   "outputs": [
    {
     "data": {
      "text/plain": [
       "(1, 'Our Deeds are the Reason of this #earthquake May ALLAH Forgive us all')"
      ]
     },
     "execution_count": 3,
     "metadata": {},
     "output_type": "execute_result"
    }
   ],
   "source": [
    "class MyDataset(torch.utils.data.Dataset):\n",
    "    def __init__(self, DF:pd.DataFrame):\n",
    "        if 'target' in DF.columns:\n",
    "            self.target= DF['target'].values\n",
    "        else:\n",
    "            self.target= DF['id'].values\n",
    "        self.text = DF['text'].values\n",
    "        self.id= DF['id'].values\n",
    "        pass\n",
    "\n",
    "    def __len__(self):\n",
    "        return len(self.id)\n",
    "\n",
    "    def __getitem__(self, idx):\n",
    "        text = self.text[idx]\n",
    "        target = self.target[idx]\n",
    "\n",
    "        return target, text\n",
    "\n",
    "\n",
    "trainSet= MyDataset(DF=trainDF)\n",
    "testSet= MyDataset(DF=testDF)\n",
    "trainSet[0]"
   ]
  },
  {
   "cell_type": "code",
   "execution_count": 4,
   "metadata": {},
   "outputs": [
    {
     "data": {
      "text/plain": [
       "['hello', 'my', 'wolrd']"
      ]
     },
     "execution_count": 4,
     "metadata": {},
     "output_type": "execute_result"
    }
   ],
   "source": [
    "myTokenizer = get_tokenizer('basic_english')\n",
    "token = myTokenizer('hello my wolrd')\n",
    "token"
   ]
  },
  {
   "cell_type": "code",
   "execution_count": 5,
   "metadata": {},
   "outputs": [
    {
     "data": {
      "text/plain": [
       "<generator object yield_tokens at 0x15be297b0>"
      ]
     },
     "execution_count": 5,
     "metadata": {},
     "output_type": "execute_result"
    }
   ],
   "source": [
    "def yield_tokens(myIter):\n",
    "    for  _ , text in myIter:\n",
    "        yield  myTokenizer(text)\n",
    "\n",
    "\n",
    "yield_tokens(iter(trainSet))"
   ]
  },
  {
   "cell_type": "code",
   "execution_count": 6,
   "metadata": {},
   "outputs": [
    {
     "data": {
      "text/plain": [
       "[0, 0, 30, 4, 0, 10]"
      ]
     },
     "execution_count": 6,
     "metadata": {},
     "output_type": "execute_result"
    }
   ],
   "source": [
    "vocab = build_vocab_from_iterator(yield_tokens(iter(trainSet)), specials=['<unk>'])\n",
    "vocab.set_default_index(vocab['<unk>'])\n",
    "vocab(['Our', 'Deeds', 'are', 'the', 'Reason', 'of'])"
   ]
  },
  {
   "cell_type": "code",
   "execution_count": 7,
   "metadata": {},
   "outputs": [
    {
     "data": {
      "text/plain": [
       "device(type='cpu')"
      ]
     },
     "execution_count": 7,
     "metadata": {},
     "output_type": "execute_result"
    }
   ],
   "source": [
    "device = torch.device(\"cuda\" if torch.cuda.is_available() else \"cpu\")\n",
    "device"
   ]
  },
  {
   "cell_type": "code",
   "execution_count": 8,
   "metadata": {},
   "outputs": [
    {
     "data": {
      "text/plain": [
       "(0,\n",
       " '@InfiniteGrace7 I just screamed to the world how much I love My Little Pony ??')"
      ]
     },
     "execution_count": 8,
     "metadata": {},
     "output_type": "execute_result"
    }
   ],
   "source": [
    "trainSet, valSet = torch.utils.data.dataset.random_split(\n",
    "    dataset=trainSet,lengths=[0.8,0.2]\n",
    ")\n",
    "trainSet[0]"
   ]
  },
  {
   "cell_type": "code",
   "execution_count": 9,
   "metadata": {},
   "outputs": [
    {
     "data": {
      "text/plain": [
       "(tensor([1, 0, 0, 0, 1, 1, 0, 0, 0, 0]),\n",
       " tensor([ 7529,  5880,   665,    25,   893,  4319,    83,     3,     2,     1,\n",
       "         13601,     3,     2,     1, 15600,  5736,    96,     8,     4,  5814,\n",
       "           489,     1,    94,   853,     5,    27,   170,    24,  3643,     1,\n",
       "            77,     5,    27,   467,  1042,   299,     1,  7604,  1830,  1908,\n",
       "          4572,  5677,   698,     1,    33,     7,   171,    83,     3,     2,\n",
       "             1, 14182,     3,     2,     1, 14564, 10492,   114,   103,    20,\n",
       "            14,     4,  8439,    37,    52,    70,  1168,     9,   490,    20,\n",
       "            12,     4,  1611,   210,  1593,    16,    26,   695,    18,     4,\n",
       "           987,  7814,  3326, 20780,   223,    10,     4,  2671,    10,   189,\n",
       "          2280,    25,     4,   962,    24, 11419,     1,     1,     1, 23490,\n",
       "             7,  1264, 17939,    20,   485,  2610,     4, 23295,     1,   539,\n",
       "          2551,  1076,    41,   625,    51, 22354,   431,    10,    91,   308,\n",
       "             3,     2,     1, 15658, 10757,    12,    59,     5,    15,     4,\n",
       "          3060, 20376,     8,     4, 11928,    11,  3016,     1,     1,    59,\n",
       "            32,  4503,    78,     4,  1924,     8,  1579,    51,  2741,   626,\n",
       "           246,   810,  1949,    11,   125,    17,    38,   172,   586,   462,\n",
       "           352, 19756,    11,   125,   125,   250,   464,    25, 10608,    11,\n",
       "          1448,   156,   312,     4,   343,   590, 21593,    55,     7,   423,\n",
       "             3,     2,     1, 15984]),\n",
       " tensor([  0,  15,  37,  56,  82, 109, 124, 152, 161, 176]))"
      ]
     },
     "execution_count": 9,
     "metadata": {},
     "output_type": "execute_result"
    }
   ],
   "source": [
    "def myCollate(batch):\n",
    "    labelList = []\n",
    "    textList=[]\n",
    "    offset=[0]\n",
    "    for label, text in batch:\n",
    "        labelList.append(label)\n",
    "\n",
    "        text = vocab(myTokenizer(text))\n",
    "        text = torch.tensor(text)\n",
    "        textList.append(text)\n",
    "\n",
    "        offset.append(text.size(0))\n",
    "\n",
    "        \n",
    "    labelList = torch.tensor(labelList)\n",
    "\n",
    "    textList= torch.cat(textList)\n",
    "\n",
    "    offset = offset[:-1]\n",
    "    offset = torch.tensor(offset)\n",
    "    offset = offset.cumsum(dim=0)\n",
    "\n",
    "\n",
    "    return labelList.to(device), textList.to(device), offset.to(device), \n",
    "\n",
    "trainLoader = torch.utils.data.DataLoader(dataset=trainSet,batch_size=10,sampler=torch.utils.data.RandomSampler(trainSet), collate_fn=myCollate)\n",
    "valLoader = torch.utils.data.DataLoader(dataset=valSet,collate_fn=myCollate)\n",
    "testLoader = torch.utils.data.DataLoader(dataset=testSet,collate_fn=myCollate)\n",
    "\n",
    "next(iter(trainLoader))"
   ]
  },
  {
   "cell_type": "code",
   "execution_count": 10,
   "metadata": {},
   "outputs": [
    {
     "data": {
      "text/plain": [
       "tensor([[-0.8448,  0.1732],\n",
       "        [-0.9140, -0.0475],\n",
       "        [-0.8308,  0.2178],\n",
       "        [-0.8335,  0.2093],\n",
       "        [-0.8260,  0.2333],\n",
       "        [-0.8598,  0.1254],\n",
       "        [-0.8692,  0.0953],\n",
       "        [-0.8252,  0.2358],\n",
       "        [-0.8853,  0.0439],\n",
       "        [-0.8527,  0.1481]], grad_fn=<AddmmBackward0>)"
      ]
     },
     "execution_count": 10,
     "metadata": {},
     "output_type": "execute_result"
    }
   ],
   "source": [
    "class myModel(torch.nn.Module):\n",
    "    def __init__(self, vocabSize, embeddingDim, classCnt) -> None:\n",
    "        super().__init__()\n",
    "        self.embadding=torch.nn.EmbeddingBag(vocabSize, embeddingDim)\n",
    "        self.linear = torch.nn.Linear(embeddingDim, classCnt)\n",
    "\n",
    "    def forward(self,text, offset ):\n",
    "        logits = self.embadding(text,offset)\n",
    "        logits = self.linear(logits)\n",
    "        return logits\n",
    "\n",
    "model = myModel(len(vocab),1,2).to(device)\n",
    "\n",
    "label, text, offset= next(iter(trainLoader))\n",
    "model(text, offset )"
   ]
  },
  {
   "cell_type": "code",
   "execution_count": 11,
   "metadata": {},
   "outputs": [
    {
     "name": "stdout",
     "output_type": "stream",
     "text": [
      "0 0.5650459921156373 1040.0678516924381 419.4342921972275\n",
      "1 0.5670170827858082 1047.9004332125187 417.0303824841976\n",
      "2 0.561760840998686 1037.9073225557804 416.69877964258194\n",
      "3 0.5683311432325887 1038.3732166290283 416.2033078074455\n",
      "4 0.5611038107752957 1038.6897189766169 414.8847402334213\n",
      "5 0.573587385019711 1025.6394927054644 412.9615856409073\n",
      "6 0.580814717477004 1020.4665093868971 409.9551328718662\n",
      "7 0.5847568988173456 1024.1786311157048 405.1546404659748\n",
      "8 0.6005256241787122 1000.7355560362339 400.82323083281517\n",
      "9 0.6103810775295664 1000.2870289124548 396.90432676672935\n",
      "10 0.6090670170827858 997.8055178336799 394.5695151388645\n",
      "11 0.6169513797634691 979.9254149086773 390.5773931890726\n",
      "12 0.6307490144546649 974.0152072496712 388.86055332422256\n",
      "13 0.6346911957950065 972.077460296452 386.9325089752674\n",
      "14 0.6307490144546649 980.0575450882316 383.9533674418926\n",
      "15 0.628777923784494 965.9487898945808 383.369221419096\n",
      "16 0.6340341655716163 961.0113519839942 381.11880174279213\n",
      "17 0.6478318002628121 955.3820090331137 379.5500146150589\n",
      "18 0.6353482260183968 959.6632789671421 377.90189412236214\n",
      "19 0.6498028909329829 949.4461181610823 376.64567425847054\n",
      "20 0.6491458607095927 947.9941573869437 375.0027388036251\n",
      "21 0.6583442838370565 941.797847174108 373.49119144678116\n",
      "22 0.6537450722733246 942.6632249318063 372.01583275198936\n",
      "23 0.6550591327201051 937.5237759165466 371.2045504152775\n",
      "24 0.6622864651773982 936.7194149643183 369.2468020617962\n",
      "25 0.6636005256241787 929.554769183509 367.18537256121635\n",
      "26 0.6662286465177398 927.0357020534575 365.60156390070915\n",
      "27 0.6616294349540078 942.1175689273514 363.9401842057705\n",
      "28 0.6741130091984231 922.549317939207 362.81996262073517\n",
      "29 0.6701708278580815 922.9973889067769 361.4934272766113\n",
      "30 0.6708278580814717 915.6798350508325 359.7614553421736\n",
      "31 0.6754270696452037 914.468981213402 358.3955973535776\n",
      "32 0.6741130091984231 910.0525218131952 356.7768694162369\n",
      "33 0.6767411300919842 909.5283098975196 355.2711918950081\n",
      "34 0.676084099868594 914.4064605915919 354.5038375854492\n",
      "35 0.6780551905387647 905.020837898599 353.0346399694681\n",
      "36 0.6793692509855453 904.8119327959139 351.91673505306244\n",
      "37 0.6813403416557161 905.3739630510099 351.54383920133114\n",
      "38 0.6806833114323259 905.143703693524 351.73613150417805\n",
      "39 0.6787122207621551 904.5880701832939 351.411925971508\n",
      "40 0.6826544021024967 905.4215220739134 351.3794005215168\n",
      "41 0.6793692509855453 903.9562296597287 351.0166802033782\n",
      "42 0.6787122207621551 903.4615436736494 351.3882558643818\n",
      "43 0.6793692509855453 903.1774695473723 351.05931174755096\n",
      "44 0.6800262812089356 903.0716682903003 350.64157047867775\n",
      "45 0.6800262812089356 902.9988913103007 350.4410016089678\n",
      "46 0.6819973718791065 902.8910357642453 350.6533546447754\n",
      "47 0.6806833114323259 902.3805209670682 350.10680413246155\n",
      "48 0.6813403416557161 902.2391933663748 350.00981935858727\n",
      "49 0.6800262812089356 901.8463437482715 349.88306108117104\n",
      "50 0.6819973718791065 901.8567691559438 349.58315869420767\n",
      "51 0.6846254927726675 901.800867261365 349.66574889421463\n",
      "52 0.6826544021024967 901.3887475158554 349.6034365594387\n",
      "53 0.683311432325887 901.2329215356149 349.4030781984329\n",
      "54 0.683311432325887 900.8651204600465 349.67920196056366\n",
      "55 0.6852825229960579 900.9496615044773 349.30813559889793\n",
      "56 0.6839684625492772 900.4114523429889 350.7905064076185\n",
      "57 0.6852825229960579 900.3873848412186 349.34190736711025\n",
      "58 0.6813403416557161 899.7321683021728 348.39480316638947\n",
      "59 0.6859395532194481 899.8522907211445 348.81373420357704\n",
      "60 0.6852825229960579 899.5176134300418 348.25095193088055\n",
      "61 0.6839684625492772 899.1743613767903 348.1094069033861\n",
      "62 0.6826544021024967 898.6935297269374 348.70567102730274\n",
      "63 0.6859395532194481 899.5522246626206 347.563343167305\n",
      "64 0.6846254927726675 898.5108868507668 347.8981299549341\n",
      "65 0.6846254927726675 898.2604549247772 347.60373544692993\n",
      "66 0.683311432325887 897.8989972923882 347.4141310751438\n",
      "67 0.687910643889619 898.22526085563 347.8611738085747\n",
      "68 0.683311432325887 897.4601911951322 347.23188892006874\n",
      "69 0.683311432325887 897.1830855694134 347.4469018280506\n",
      "70 0.6852825229960579 897.136250624666 346.8001143336296\n",
      "71 0.687910643889619 897.4720074560028 346.9000453054905\n",
      "72 0.6852825229960579 896.6772584822029 347.046938598156\n",
      "73 0.6846254927726675 896.3725306019187 346.38827243447304\n",
      "74 0.6872536136662286 895.9164984365925 346.2176721692085\n",
      "75 0.6859395532194481 896.2325453497469 346.2743954062462\n",
      "76 0.6852825229960579 896.1926995334215 346.08435598015785\n",
      "77 0.6839684625492772 896.1501150561962 345.6953779608011\n",
      "78 0.683311432325887 896.0779492780566 346.31181894242764\n",
      "79 0.6839684625492772 896.0302109031472 345.8980834335089\n",
      "80 0.683311432325887 896.0205005668104 347.2212431579828\n",
      "81 0.683311432325887 895.9811166184954 345.9002526551485\n",
      "82 0.683311432325887 895.9578231212217 345.50333355367184\n",
      "83 0.683311432325887 895.9393867766485 345.9585770368576\n",
      "84 0.683311432325887 895.9396997522563 346.66047698259354\n",
      "85 0.683311432325887 895.9016075618565 345.8459163606167\n",
      "86 0.683311432325887 895.8771120430902 345.742816388607\n",
      "87 0.683311432325887 895.8550861771218 345.88905794918537\n",
      "88 0.683311432325887 895.8225263012573 345.59360651671886\n",
      "89 0.6839684625492772 895.7703203186393 346.20341542363167\n",
      "90 0.683311432325887 895.7695977590047 346.50667557120323\n",
      "91 0.683311432325887 895.7536282250658 345.68819515407085\n",
      "92 0.683311432325887 895.736997181084 346.02563416957855\n",
      "93 0.6839684625492772 895.6822258678731 345.9566388428211\n",
      "94 0.6839684625492772 895.6669778518844 345.3486061990261\n",
      "95 0.6839684625492772 895.6458132839762 345.80135011672974\n",
      "96 0.6839684625492772 895.6223672458436 345.3640540391207\n",
      "97 0.6839684625492772 895.6118118024897 345.5205774307251\n",
      "98 0.6846254927726675 895.5978642154951 345.3060344681144\n",
      "99 0.6839684625492772 895.5699266968295 345.4252629131079\n"
     ]
    },
    {
     "data": {
      "text/plain": [
       "<matplotlib.legend.Legend at 0x1689971f0>"
      ]
     },
     "execution_count": 11,
     "metadata": {},
     "output_type": "execute_result"
    },
    {
     "data": {
      "image/png": "[encoded data removed]",
      "text/plain": [
       "<Figure size 640x480 with 1 Axes>"
      ]
     },
     "metadata": {},
     "output_type": "display_data"
    }
   ],
   "source": [
    "lossFunc = torch.nn.CrossEntropyLoss()\n",
    "optim = torch.optim.SGD(model.parameters(), lr=0.1)\n",
    "lrScheduler = torch.optim.lr_scheduler.StepLR(optim, step_size=10, gamma=0.1)\n",
    "\n",
    "def train(dataLoader,model, lossFunc, optim):\n",
    "    model.train()\n",
    "    trainLoss = 0\n",
    "    for label, text, offset in dataLoader:\n",
    "        optim.zero_grad()\n",
    "\n",
    "        logits = model(text, offset)\n",
    "        loss = lossFunc(logits, label)\n",
    "\n",
    "        trainLoss += loss.item()\n",
    "\n",
    "        loss.backward()\n",
    "        optim.step()\n",
    "\n",
    "    return trainLoss\n",
    "\n",
    "def val(dataLoader,model, lossFunc):\n",
    "    model.eval()\n",
    "    valLoss = 0\n",
    "    accuracy = 0\n",
    "    with torch.no_grad():\n",
    "        for label, text, offset, in dataLoader:\n",
    "            logits = model(text, offset)\n",
    "            loss = lossFunc(logits, label)\n",
    "\n",
    "            accuracy += (logits.argmax(1) == label).sum().item()\n",
    "            valLoss += loss.item()\n",
    "\n",
    "    return valLoss, accuracy/len(dataLoader)\n",
    "\n",
    "bestLoss = float('inf')\n",
    "trainlossList=[]\n",
    "vallossList=[]\n",
    "bestModel=model\n",
    "\n",
    "for epoch in range(100):\n",
    "    trainLoss = train(trainLoader,model, lossFunc, optim)\n",
    "    valLoss, accuracy= val(valLoader,model, lossFunc)\n",
    "    trainlossList.append(trainLoss)\n",
    "    vallossList.append(valLoss)\n",
    "    print(f'{epoch} {accuracy} {valLoss} {trainLoss}')\n",
    "\n",
    "    if valLoss >bestLoss:\n",
    "        lrScheduler.step()\n",
    "        model = bestModel\n",
    "    else:\n",
    "        bestLoss = valLoss\n",
    "        bestModel = model\n",
    "\n",
    "plt.plot(trainlossList, label='trainloss')\n",
    "plt.plot(vallossList, label='valloss')\n",
    "plt.legend()"
   ]
  },
  {
   "cell_type": "code",
   "execution_count": 12,
   "metadata": {},
   "outputs": [],
   "source": [
    "plt.close()"
   ]
  },
  {
   "cell_type": "code",
   "execution_count": 13,
   "metadata": {},
   "outputs": [
    {
     "data": {
      "text/html": [
       "<div>\n",
       "<style scoped>\n",
       "    .dataframe tbody tr th:only-of-type {\n",
       "        vertical-align: middle;\n",
       "    }\n",
       "\n",
       "    .dataframe tbody tr th {\n",
       "        vertical-align: top;\n",
       "    }\n",
       "\n",
       "    .dataframe thead th {\n",
       "        text-align: right;\n",
       "    }\n",
       "</style>\n",
       "<table border=\"1\" class=\"dataframe\">\n",
       "  <thead>\n",
       "    <tr style=\"text-align: right;\">\n",
       "      <th></th>\n",
       "      <th>id</th>\n",
       "      <th>target</th>\n",
       "    </tr>\n",
       "  </thead>\n",
       "  <tbody>\n",
       "    <tr>\n",
       "      <th>0</th>\n",
       "      <td>0</td>\n",
       "      <td>1</td>\n",
       "    </tr>\n",
       "    <tr>\n",
       "      <th>1</th>\n",
       "      <td>2</td>\n",
       "      <td>1</td>\n",
       "    </tr>\n",
       "    <tr>\n",
       "      <th>2</th>\n",
       "      <td>3</td>\n",
       "      <td>0</td>\n",
       "    </tr>\n",
       "    <tr>\n",
       "      <th>3</th>\n",
       "      <td>9</td>\n",
       "      <td>1</td>\n",
       "    </tr>\n",
       "    <tr>\n",
       "      <th>4</th>\n",
       "      <td>11</td>\n",
       "      <td>1</td>\n",
       "    </tr>\n",
       "    <tr>\n",
       "      <th>...</th>\n",
       "      <td>...</td>\n",
       "      <td>...</td>\n",
       "    </tr>\n",
       "    <tr>\n",
       "      <th>3258</th>\n",
       "      <td>10861</td>\n",
       "      <td>1</td>\n",
       "    </tr>\n",
       "    <tr>\n",
       "      <th>3259</th>\n",
       "      <td>10865</td>\n",
       "      <td>0</td>\n",
       "    </tr>\n",
       "    <tr>\n",
       "      <th>3260</th>\n",
       "      <td>10868</td>\n",
       "      <td>1</td>\n",
       "    </tr>\n",
       "    <tr>\n",
       "      <th>3261</th>\n",
       "      <td>10874</td>\n",
       "      <td>1</td>\n",
       "    </tr>\n",
       "    <tr>\n",
       "      <th>3262</th>\n",
       "      <td>10875</td>\n",
       "      <td>1</td>\n",
       "    </tr>\n",
       "  </tbody>\n",
       "</table>\n",
       "<p>3263 rows × 2 columns</p>\n",
       "</div>"
      ],
      "text/plain": [
       "         id  target\n",
       "0         0       1\n",
       "1         2       1\n",
       "2         3       0\n",
       "3         9       1\n",
       "4        11       1\n",
       "...     ...     ...\n",
       "3258  10861       1\n",
       "3259  10865       0\n",
       "3260  10868       1\n",
       "3261  10874       1\n",
       "3262  10875       1\n",
       "\n",
       "[3263 rows x 2 columns]"
      ]
     },
     "execution_count": 13,
     "metadata": {},
     "output_type": "execute_result"
    }
   ],
   "source": [
    "def test(dataLoader,model):\n",
    "    model.eval()\n",
    "    result = []\n",
    "\n",
    "    with torch.no_grad():\n",
    "        for id, text, offset in dataLoader:\n",
    "            logits = model(text, offset)\n",
    "            result.append([id.item(), logits.argmax().item()])\n",
    "\n",
    "\n",
    "    return  result\n",
    "\n",
    "result = test(testLoader, bestModel)\n",
    "resultDF = pd.DataFrame(result).rename(columns={0:'id',1:'target'})\n",
    "resultDF"
   ]
  },
  {
   "cell_type": "code",
   "execution_count": 14,
   "metadata": {},
   "outputs": [],
   "source": [
    "resultDF.to_csv('sample_submission.csv', index=False)"
   ]
  }
 ],
 "metadata": {
  "kernelspec": {
   "display_name": "Python 3",
   "language": "python",
   "name": "python3"
  },
  "language_info": {
   "codemirror_mode": {
    "name": "ipython",
    "version": 3
   },
   "file_extension": ".py",
   "mimetype": "text/x-python",
   "name": "python",
   "nbconvert_exporter": "python",
   "pygments_lexer": "ipython3",
   "version": "3.9.6"
  }
 },
 "nbformat": 4,
 "nbformat_minor": 2
}
